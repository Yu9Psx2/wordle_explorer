{
 "cells": [
  {
   "cell_type": "code",
   "execution_count": 1,
   "metadata": {},
   "outputs": [],
   "source": [
    "from english_words import english_words_lower_set\n"
   ]
  },
  {
   "cell_type": "code",
   "execution_count": 2,
   "metadata": {},
   "outputs": [],
   "source": [
    "#The english word list imported above contains words with apostraphes. Need to remove these words and select only 5 letter words to play wordle\n",
    "#Also, this list includes proper nouns, which is okay for the sake of exploring, but I could load in a dictionary w/o proper nouns.\n",
    "words = {}\n",
    "for i in english_words_lower_set:\n",
    "    if len(i) == 5 and i.isalpha():\n",
    "        words[i] = None\n"
   ]
  },
  {
   "cell_type": "code",
   "execution_count": 3,
   "metadata": {},
   "outputs": [],
   "source": [
    "#for fun, I want to see which words would make good guessing words in wordle, I am going todo this by making a helper function.\n",
    "def compare(first_word, second_word):\n",
    "    yellow_count = 0\n",
    "    green_count = 0\n",
    "    tracker = []\n",
    "    for i in range(0,5):\n",
    "        if first_word[i] == second_word[i]:\n",
    "            green_count += 1\n",
    "            if first_word[i] not in tracker:\n",
    "                tracker.append(first_word[i])\n",
    "            else:\n",
    "                yellow_count -=1\n",
    "        else:\n",
    "            if first_word[i] in(second_word) and first_word[i] not in tracker:\n",
    "                yellow_count += 1\n",
    "                tracker.append(first_word[i])\n",
    "    return green_count, yellow_count"
   ]
  },
  {
   "cell_type": "code",
   "execution_count": 4,
   "metadata": {},
   "outputs": [],
   "source": [
    "#For each word, compare against other words in the word list to see how they score and add up these scores\n",
    "for i in words.keys():\n",
    "    green_count = 0\n",
    "    yellow_count = 0\n",
    "    for c in words.keys():\n",
    "        temp_green, temp_yellow = compare(i,c)\n",
    "        green_count += temp_green\n",
    "        yellow_count += temp_yellow\n",
    "    words[i] = (green_count,yellow_count)"
   ]
  },
  {
   "cell_type": "code",
   "execution_count": 5,
   "metadata": {},
   "outputs": [
    {
     "data": {
      "text/html": [
       "<div>\n",
       "<style scoped>\n",
       "    .dataframe tbody tr th:only-of-type {\n",
       "        vertical-align: middle;\n",
       "    }\n",
       "\n",
       "    .dataframe tbody tr th {\n",
       "        vertical-align: top;\n",
       "    }\n",
       "\n",
       "    .dataframe thead th {\n",
       "        text-align: right;\n",
       "    }\n",
       "</style>\n",
       "<table border=\"1\" class=\"dataframe\">\n",
       "  <thead>\n",
       "    <tr style=\"text-align: right;\">\n",
       "      <th></th>\n",
       "      <th>0</th>\n",
       "      <th>1</th>\n",
       "    </tr>\n",
       "  </thead>\n",
       "  <tbody>\n",
       "    <tr>\n",
       "      <th>costa</th>\n",
       "      <td>1172</td>\n",
       "      <td>3514</td>\n",
       "    </tr>\n",
       "    <tr>\n",
       "      <th>bathe</th>\n",
       "      <td>1531</td>\n",
       "      <td>3066</td>\n",
       "    </tr>\n",
       "    <tr>\n",
       "      <th>hater</th>\n",
       "      <td>1320</td>\n",
       "      <td>3948</td>\n",
       "    </tr>\n",
       "    <tr>\n",
       "      <th>adair</th>\n",
       "      <td>1073</td>\n",
       "      <td>2779</td>\n",
       "    </tr>\n",
       "    <tr>\n",
       "      <th>slime</th>\n",
       "      <td>1692</td>\n",
       "      <td>2851</td>\n",
       "    </tr>\n",
       "  </tbody>\n",
       "</table>\n",
       "</div>"
      ],
      "text/plain": [
       "          0     1\n",
       "costa  1172  3514\n",
       "bathe  1531  3066\n",
       "hater  1320  3948\n",
       "adair  1073  2779\n",
       "slime  1692  2851"
      ]
     },
     "execution_count": 5,
     "metadata": {},
     "output_type": "execute_result"
    }
   ],
   "source": [
    "#Load dictionary as dataframe\n",
    "import pandas as pd\n",
    "dataframe = pd.DataFrame.from_dict(data = words, orient = 'index')\n",
    "dataframe.head()"
   ]
  },
  {
   "cell_type": "code",
   "execution_count": 6,
   "metadata": {},
   "outputs": [
    {
     "data": {
      "text/html": [
       "<div>\n",
       "<style scoped>\n",
       "    .dataframe tbody tr th:only-of-type {\n",
       "        vertical-align: middle;\n",
       "    }\n",
       "\n",
       "    .dataframe tbody tr th {\n",
       "        vertical-align: top;\n",
       "    }\n",
       "\n",
       "    .dataframe thead th {\n",
       "        text-align: right;\n",
       "    }\n",
       "</style>\n",
       "<table border=\"1\" class=\"dataframe\">\n",
       "  <thead>\n",
       "    <tr style=\"text-align: right;\">\n",
       "      <th></th>\n",
       "      <th>Green</th>\n",
       "      <th>Yellow</th>\n",
       "      <th>Combined_Score</th>\n",
       "    </tr>\n",
       "  </thead>\n",
       "  <tbody>\n",
       "    <tr>\n",
       "      <th>arose</th>\n",
       "      <td>1620</td>\n",
       "      <td>4085</td>\n",
       "      <td>5705</td>\n",
       "    </tr>\n",
       "    <tr>\n",
       "      <th>erato</th>\n",
       "      <td>1144</td>\n",
       "      <td>4546</td>\n",
       "      <td>5690</td>\n",
       "    </tr>\n",
       "    <tr>\n",
       "      <th>orate</th>\n",
       "      <td>1551</td>\n",
       "      <td>4139</td>\n",
       "      <td>5690</td>\n",
       "    </tr>\n",
       "    <tr>\n",
       "      <th>raise</th>\n",
       "      <td>1698</td>\n",
       "      <td>3970</td>\n",
       "      <td>5668</td>\n",
       "    </tr>\n",
       "    <tr>\n",
       "      <th>aries</th>\n",
       "      <td>1391</td>\n",
       "      <td>4277</td>\n",
       "      <td>5668</td>\n",
       "    </tr>\n",
       "    <tr>\n",
       "      <th>aires</th>\n",
       "      <td>1300</td>\n",
       "      <td>4368</td>\n",
       "      <td>5668</td>\n",
       "    </tr>\n",
       "    <tr>\n",
       "      <th>arise</th>\n",
       "      <td>1646</td>\n",
       "      <td>4022</td>\n",
       "      <td>5668</td>\n",
       "    </tr>\n",
       "    <tr>\n",
       "      <th>lares</th>\n",
       "      <td>1438</td>\n",
       "      <td>4221</td>\n",
       "      <td>5659</td>\n",
       "    </tr>\n",
       "    <tr>\n",
       "      <th>artie</th>\n",
       "      <td>1539</td>\n",
       "      <td>4114</td>\n",
       "      <td>5653</td>\n",
       "    </tr>\n",
       "    <tr>\n",
       "      <th>irate</th>\n",
       "      <td>1549</td>\n",
       "      <td>4104</td>\n",
       "      <td>5653</td>\n",
       "    </tr>\n",
       "  </tbody>\n",
       "</table>\n",
       "</div>"
      ],
      "text/plain": [
       "       Green  Yellow  Combined_Score\n",
       "arose   1620    4085            5705\n",
       "erato   1144    4546            5690\n",
       "orate   1551    4139            5690\n",
       "raise   1698    3970            5668\n",
       "aries   1391    4277            5668\n",
       "aires   1300    4368            5668\n",
       "arise   1646    4022            5668\n",
       "lares   1438    4221            5659\n",
       "artie   1539    4114            5653\n",
       "irate   1549    4104            5653"
      ]
     },
     "execution_count": 6,
     "metadata": {},
     "output_type": "execute_result"
    }
   ],
   "source": [
    "#Calculate the top ten words by a combined score of green and yellow\n",
    "dataframe.rename(columns = {0:\"Green\", 1:\"Yellow\"}, inplace = True)\n",
    "dataframe['Combined_Score'] = dataframe['Green'] + dataframe['Yellow']\n",
    "top_ten = dataframe.nlargest(10,'Combined_Score')\n",
    "top_ten.head(10)"
   ]
  },
  {
   "cell_type": "code",
   "execution_count": 7,
   "metadata": {},
   "outputs": [],
   "source": [
    "dataframe.to_csv('wordle_words.csv')"
   ]
  }
 ],
 "metadata": {
  "interpreter": {
   "hash": "9dfd1e83e3d0e1042713f0bd017376beb53a8d08a2770f3e148ed58d62e45e18"
  },
  "kernelspec": {
   "display_name": "Python 3.8.8 ('base')",
   "language": "python",
   "name": "python3"
  },
  "language_info": {
   "codemirror_mode": {
    "name": "ipython",
    "version": 3
   },
   "file_extension": ".py",
   "mimetype": "text/x-python",
   "name": "python",
   "nbconvert_exporter": "python",
   "pygments_lexer": "ipython3",
   "version": "3.8.8"
  },
  "orig_nbformat": 4
 },
 "nbformat": 4,
 "nbformat_minor": 2
}
