{
 "cells": [
  {
   "cell_type": "code",
   "execution_count": 42,
   "metadata": {},
   "outputs": [],
   "source": [
    "from english_words import english_words_lower_set"
   ]
  },
  {
   "cell_type": "code",
   "execution_count": 43,
   "metadata": {},
   "outputs": [],
   "source": [
    "#The english word list imported above contains words with apostraphes. Need to remove these words and select only 5 letter words to play wordle\n",
    "#Also, this list includes proper nouns, which is okay for the sake of exploring, but I could load in a dictionary w/o proper nouns.\n",
    "words = {}\n",
    "for i in english_words_lower_set:\n",
    "    if len(i) == 5 and i.isalpha():\n",
    "        words[i] = None\n"
   ]
  },
  {
   "cell_type": "code",
   "execution_count": 44,
   "metadata": {},
   "outputs": [],
   "source": [
    "#for fun, I want to see which words would make good guessing words in wordle, I am going todo this by making a helper function.\n",
    "def compare(first_word, second_word):\n",
    "    yellow_count = 0\n",
    "    green_count = 0\n",
    "    tracker = []\n",
    "    for i in range(0,5):\n",
    "        if first_word[i] == second_word[i]:\n",
    "            green_count += 1\n",
    "            if first_word[i] not in tracker:\n",
    "                tracker.append(first_word[i])\n",
    "            else:\n",
    "                yellow_count -=1\n",
    "        else:\n",
    "            if first_word[i] in(second_word) and first_word[i] not in tracker:\n",
    "                yellow_count += 1\n",
    "                tracker.append(first_word[i])\n",
    "    return green_count, yellow_count"
   ]
  },
  {
   "cell_type": "code",
   "execution_count": 45,
   "metadata": {},
   "outputs": [],
   "source": [
    "for i in words.keys():\n",
    "    green_count = 0\n",
    "    yellow_count = 0\n",
    "    for c in words.keys():\n",
    "        temp_green, temp_yellow = compare(i,c)\n",
    "        green_count += temp_green\n",
    "        yellow_count += temp_yellow\n",
    "    words[i] = (green_count,yellow_count)"
   ]
  },
  {
   "cell_type": "code",
   "execution_count": null,
   "metadata": {},
   "outputs": [],
   "source": []
  }
 ],
 "metadata": {
  "interpreter": {
   "hash": "9dfd1e83e3d0e1042713f0bd017376beb53a8d08a2770f3e148ed58d62e45e18"
  },
  "kernelspec": {
   "display_name": "Python 3.8.8 ('base')",
   "language": "python",
   "name": "python3"
  },
  "language_info": {
   "codemirror_mode": {
    "name": "ipython",
    "version": 3
   },
   "file_extension": ".py",
   "mimetype": "text/x-python",
   "name": "python",
   "nbconvert_exporter": "python",
   "pygments_lexer": "ipython3",
   "version": "3.8.8"
  },
  "orig_nbformat": 4
 },
 "nbformat": 4,
 "nbformat_minor": 2
}
